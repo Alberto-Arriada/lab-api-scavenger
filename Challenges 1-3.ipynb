{
 "cells": [
  {
   "cell_type": "code",
   "execution_count": 1,
   "metadata": {},
   "outputs": [
    {
     "name": "stdout",
     "output_type": "stream",
     "text": [
      "The language array is: [None, 'Jupyter Notebook', 'HTML']\n"
     ]
    }
   ],
   "source": [
    "#Challenge 1 (algo primitivo pero jala, disculpen la falta de sofisticación)\n",
    "\n",
    "import json #manipulación de archivos json\n",
    "import requests #para solicitud de apis o web\n",
    "respuesta= requests.get('https://api.github.com/repos/ironhack-datalabs/mad-oct-2018/forks') #obtener info de la web o api\n",
    "resultados=json.loads(respuesta.text) #poder manipular el archivo json\n",
    "languages=[] \n",
    "#resultados\n",
    "for i in resultados:\n",
    "    if i['language'] not in languages:\n",
    "        languages.append(i['language'])\n",
    "\n",
    "print(\"The language array is:\", languages)\n",
    "        \n",
    "    \n",
    "    \n"
   ]
  },
  {
   "cell_type": "code",
   "execution_count": 2,
   "metadata": {},
   "outputs": [
    {
     "name": "stdout",
     "output_type": "stream",
     "text": [
      "The commits made between days 12 to 19 of august 2019 were: 1\n",
      "There are  7  objects in the array of \"commit\"\n"
     ]
    }
   ],
   "source": [
    "#Challange 2\n",
    "\n",
    "#NOTA: El último commit que se realizó en ese repositorio fue el 19 de agosto de 2019, por lo que\n",
    "#      si sigo las instrucciones, no habría resultados. Por lo anterior, la consulta se realiza\n",
    "#      del 12 de agosto de 2019.\n",
    "\n",
    "respuesta2= requests.get('https://api.github.com/repos/ironhack-datalabs/mad-oct-2018/commits?since=2019-08-12') #obtener info de la web o api\n",
    "resultados2=json.loads(respuesta2.text) #poder manipular el archivo json\n",
    "print('The commits made between days 12 to 19 of august 2019 were:',len(resultados2))\n",
    "print('There are ', len(resultados2[0].get('commit')),' objects in the array of \"commit\"') \n"
   ]
  },
  {
   "cell_type": "code",
   "execution_count": 112,
   "metadata": {},
   "outputs": [
    {
     "name": "stdout",
     "output_type": "stream",
     "text": [
      "[('.0001.scavengerhunt', '98750/.0001.scavengerhunt'), ('.0002.scavengerhunt', '88596/.0002.scavengerhunt'), ('.0003.scavengerhunt', '60224/.0003.scavengerhunt'), ('.0004.scavengerhunt', '68848/.0004.scavengerhunt'), ('.0005.scavengerhunt', '44639/.0005.scavengerhunt'), ('.0006.scavengerhunt', '15024/.0006.scavengerhunt'), ('.0007.scavengerhunt', '17020/.0007.scavengerhunt'), ('.0008.scavengerhunt', '15534/.0008.scavengerhunt'), ('.0009.scavengerhunt', '97881/.0009.scavengerhunt'), ('.0010.scavengerhunt', '47830/.0010.scavengerhunt'), ('.0011.scavengerhunt', '50896/.0011.scavengerhunt'), ('.0012.scavengerhunt', '15534/.0012.scavengerhunt'), ('.0013.scavengerhunt', '89338/.0013.scavengerhunt'), ('.0014.scavengerhunt', '49418/.0014.scavengerhunt'), ('.0015.scavengerhunt', '91701/.0015.scavengerhunt'), ('.0016.scavengerhunt', '47222/.0016.scavengerhunt'), ('.0017.scavengerhunt', '70985/.0017.scavengerhunt'), ('.0018.scavengerhunt', '45525/.0018.scavengerhunt'), ('.0019.scavengerhunt', '70751/.0019.scavengerhunt'), ('.0020.scavengerhunt', '55685/.0020.scavengerhunt'), ('.0021.scavengerhunt', '30351/.0021.scavengerhunt'), ('.0022.scavengerhunt', '40303/.0022.scavengerhunt'), ('.0023.scavengerhunt', '55417/.0023.scavengerhunt'), ('.0024.scavengerhunt', '47222/.0024.scavengerhunt')]\n"
     ]
    },
    {
     "data": {
      "text/plain": [
       "'In data science, 80 percent of time spent is preparing data, 20 percent of time is spent complaining about the need to prepare data.'"
      ]
     },
     "execution_count": 112,
     "metadata": {},
     "output_type": "execute_result"
    }
   ],
   "source": [
    "#CHALLANGE 3\n",
    "\n",
    "# GET /search/code - método existente en api de Github\n",
    "# Find file contents via various criteria. This method returns up to 100 results per page.\n",
    "# When searching for code, you can get text match metadata for the file content and file path fields when you pass the text-match media type.\n",
    "# con token\n",
    "#ID = {\"Authorization\": \"3c8ea8e35a9d6330b8c9fbfc19cd4af4c4ae70b8\"}\n",
    "#res = requests.get(\"https://api.github.com/search/code?q=repo:ironhack-datalabs/scavenger+extension:scavengerhunt\", headers=ID)\n",
    "# sin token\n",
    "# al usar 'GET /search/code' podremos visualizar el contenido de las carpetas\n",
    "res = requests.get(\"https://api.github.com/search/code?q=repo:ironhack-datalabs/scavenger+extension:scavengerhunt\")\n",
    "# nos ayudamos de '+extension' para encontrar los archivos '.XXXX.scavengerhunt'\n",
    "data = res.json()\n",
    "# print(data)\n",
    "lst = list(map(lambda x: (x[\"name\"],x[\"path\"]),data['items']))\n",
    "# al poder visualizar el contenido de las carpetas, así obtenenos primero el nombre del archivo '.XXXX.scavengerhunt'\n",
    "# y luego la carpeta junto con el respectivo archivo '.XXX.scavengerhunt' que contiene\n",
    "# print(lst)\n",
    "print(sorted(lst))\n",
    "# como primero tenemo en la lista 'lst' tenemos el nombre del archivo '.XXXX.scavengerhunt', será más fácil ordenarlo\n",
    "files = list(map(lambda x:  \"https://raw.githubusercontent.com/ironhack-datalabs/scavenger/master/{}\".format(x[1]),sorted(lst)))\n",
    "# print(files)\n",
    "# cuando usamos 'raw.githubusercontent.com' para obtener el contenido sin procesar en los archivos del repositorio llamado\n",
    "# de está forma ya no será necesario ocupar una decodificación\n",
    "# obtenemos la lista ordenada de nuestros directorios que deseamos procesar para obtener su contenido\n",
    "sentencelist = list(map( lambda x: requests.get(x).text ,files))\n",
    "# ocupamos 'map' para aplicar el get a cada 'raw' url\n",
    "# obtenemos la lista de las palabras\n",
    "' '.join(map(str.rstrip,sentencelist))\n",
    "# aplicamos un simple join para mostrarlo en una simple oración"
   ]
  }
 ],
 "metadata": {
  "kernelspec": {
   "display_name": "Python 3",
   "language": "python",
   "name": "python3"
  },
  "language_info": {
   "codemirror_mode": {
    "name": "ipython",
    "version": 3
   },
   "file_extension": ".py",
   "mimetype": "text/x-python",
   "name": "python",
   "nbconvert_exporter": "python",
   "pygments_lexer": "ipython3",
   "version": "3.7.4"
  }
 },
 "nbformat": 4,
 "nbformat_minor": 4
}
