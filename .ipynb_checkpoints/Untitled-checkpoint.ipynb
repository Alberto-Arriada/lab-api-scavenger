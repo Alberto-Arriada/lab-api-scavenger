{
 "cells": [
  {
   "cell_type": "code",
   "execution_count": 26,
   "metadata": {},
   "outputs": [
    {
     "name": "stdout",
     "output_type": "stream",
     "text": [
      "The language array is: [None, 'Jupyter Notebook', 'HTML']\n"
     ]
    }
   ],
   "source": [
    "#Challenge 1 (algo primitivo pero jala, disculpen la falta de sofisticación)\n",
    "\n",
    "import json #manipulación de archivos json\n",
    "import requests #para solicitud de apis o web\n",
    "respuesta= requests.get('https://api.github.com/repos/ironhack-datalabs/mad-oct-2018/forks') #obtener info de la web o api\n",
    "resultados=json.loads(respuesta.text) #poder manipular el archivo json\n",
    "languages=[] \n",
    "#resultados\n",
    "for i in resultados:\n",
    "    if i['language'] not in languages:\n",
    "        languages.append(i['language'])\n",
    "\n",
    "print(\"The language array is:\", languages)\n",
    "        \n",
    "    \n",
    "    \n"
   ]
  },
  {
   "cell_type": "code",
   "execution_count": 62,
   "metadata": {},
   "outputs": [
    {
     "name": "stdout",
     "output_type": "stream",
     "text": [
      "The commits made between days 12 to 19 of august 2019 were: 1\n",
      "There are  7  objects in the array of \"commit\"\n"
     ]
    }
   ],
   "source": [
    "#Challange 2\n",
    "\n",
    "#NOTA: El último commit que se realizó en ese repositorio fue el 19 de agosto de 2019, por lo que\n",
    "#      si sigo las instrucciones, no habría resultados. Por lo anterior, la consulta se realiza\n",
    "#      del 12 de agosto de 2019.\n",
    "\n",
    "#respuesta2= requests.get('https://api.github.com/repos/ironhack-datalabs/mad-oct-2018/commits?since=2019-08-12') #obtener info de la web o api\n",
    "resultados2=json.loads(respuesta2.text) #poder manipular el archivo json\n",
    "print('The commits made between days 12 to 19 of august 2019 were:',len(resultados2))\n",
    "print('There are ', len(resultados2[0].get('commit')),' objects in the array of \"commit\"') \n"
   ]
  },
  {
   "cell_type": "code",
   "execution_count": 145,
   "metadata": {},
   "outputs": [
    {
     "data": {
      "text/plain": [
       "[]"
      ]
     },
     "execution_count": 145,
     "metadata": {},
     "output_type": "execute_result"
    }
   ],
   "source": [
    "#Challange 3\n",
    "\n",
    "#respuesta3= requests.get('https://api.github.com/repos/ironhack-datalabs/scavenger/contents')\n",
    "resultado_repo=json.loads(respuesta3.text) #poder manipular el archivo json\n",
    "#respuesta4=requests.get('https://api.github.com/repos/ironhack-datalabs/scavenger/contents/15024?ref=master')\n",
    "resultado_tree=json.loads(respuesta4.text) #poder manipular el archivo json\n",
    "\n",
    "trees=[] \n",
    "#resultados de números de trees\n",
    "for i in resultado_repo:\n",
    "    if i['name'] not in trees:\n",
    "        trees.append(i['name'])\n",
    "\n",
    "url=[]\n",
    "scavengerhunt=[]\n",
    "for i in trees[1:]:\n",
    "    url.append('https://api.github.com/repos/ironhack-datalabs/scavenger/contents/%s?ref=master'%(i))\n",
    "        \n",
    "for i in range(25):\n",
    "    if i <10:\n",
    "        scavengerhunt.append('.000%d.scavengerhunt'%(i))\n",
    "    else:\n",
    "        scavengerhunt.append('.00%d.scavengerhunt'%(i))\n",
    "    \n",
    "scavengerhunt\n",
    "#print(len(resultado_repo)) 26 trees\n",
    "#resultado_tree\n",
    "respuesta5=requests.get(url[0])\n",
    "resultado_tree5=json.loads(respuesta5.text)\n",
    "paths=[]\n",
    "resultado_tree5[0]['name']\n",
    "\n",
    "\n",
    "for i in scavengerhunt:    \n",
    "    if resultado_tree5[0]['name']==scavengerhunt[5]:\n",
    "        paths.append(resultado_tree5['path'])\n",
    "paths"
   ]
  },
  {
   "cell_type": "code",
   "execution_count": null,
   "metadata": {},
   "outputs": [],
   "source": []
  }
 ],
 "metadata": {
  "kernelspec": {
   "display_name": "Python 3",
   "language": "python",
   "name": "python3"
  },
  "language_info": {
   "codemirror_mode": {
    "name": "ipython",
    "version": 3
   },
   "file_extension": ".py",
   "mimetype": "text/x-python",
   "name": "python",
   "nbconvert_exporter": "python",
   "pygments_lexer": "ipython3",
   "version": "3.7.4"
  }
 },
 "nbformat": 4,
 "nbformat_minor": 4
}
