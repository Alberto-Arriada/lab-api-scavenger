{
 "cells": [
  {
   "cell_type": "code",
   "execution_count": 11,
   "metadata": {},
   "outputs": [
    {
     "name": "stdout",
     "output_type": "stream",
     "text": [
      "'In''data''science,''80''percent''of''time''spent''is''preparing''data,''20''percent''of''time''is''spent''complaining''aout''the''need''to''prepare''data.'"
     ]
    }
   ],
   "source": [
    "import re\n",
    "from github import Github\n",
    "g=Github(\"de001e32e23fc8c95bd09257f0967eb356a12b7b\")\n",
    "repo=g.get_repo('ironhack-datalabs/scavenger')\n",
    "contenidos=repo.get_contents('')\n",
    "lista_paths=[]\n",
    "for contenido in contenidos[1:]:\n",
    "    for contents in repo.get_contents(contenido.path):\n",
    "        if contents.path.endswith('scavengerhunt'):\n",
    "            lista_paths.append(contents)\n",
    "paths_string=[]\n",
    "for x in lista_paths:\n",
    "    paths_string.append(x.path[6:])\n",
    "ordered_paths=sorted(list(zip(paths_string,lista_paths)))\n",
    "for x in ordered_paths:\n",
    "    print(re.sub('b','',str(x[1].decoded_content)).replace('\\\\n',''),end='')"
   ]
  },
  {
   "cell_type": "code",
   "execution_count": null,
   "metadata": {},
   "outputs": [],
   "source": []
  }
 ],
 "metadata": {
  "kernelspec": {
   "display_name": "Python 3",
   "language": "python",
   "name": "python3"
  },
  "language_info": {
   "codemirror_mode": {
    "name": "ipython",
    "version": 3
   },
   "file_extension": ".py",
   "mimetype": "text/x-python",
   "name": "python",
   "nbconvert_exporter": "python",
   "pygments_lexer": "ipython3",
   "version": "3.7.4"
  }
 },
 "nbformat": 4,
 "nbformat_minor": 4
}
